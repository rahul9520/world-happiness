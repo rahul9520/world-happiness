{
 "cells": [
  {
   "cell_type": "code",
   "execution_count": 1,
   "id": "c6af0be7",
   "metadata": {},
   "outputs": [],
   "source": [
    "% matplotlib inline"
   ]
  },
  {
   "cell_type": "code",
   "execution_count": 2,
   "id": "0c72aaae",
   "metadata": {},
   "outputs": [],
   "source": [
    " # Import Dependencies\n",
    "import matplotlib.pyplot as plt\n",
    "import pandas as pd\n",
    "import numpy as np\n",
    "from scipy import stats\n",
    "import seaborn as sns"
   ]
  },
  {
   "cell_type": "code",
   "execution_count": 3,
   "id": "b3f03779",
   "metadata": {},
   "outputs": [
    {
     "data": {
      "text/html": [
       "<div>\n",
       "<style scoped>\n",
       "    .dataframe tbody tr th:only-of-type {\n",
       "        vertical-align: middle;\n",
       "    }\n",
       "\n",
       "    .dataframe tbody tr th {\n",
       "        vertical-align: top;\n",
       "    }\n",
       "\n",
       "    .dataframe thead th {\n",
       "        text-align: right;\n",
       "    }\n",
       "</style>\n",
       "<table border=\"1\" class=\"dataframe\">\n",
       "  <thead>\n",
       "    <tr style=\"text-align: right;\">\n",
       "      <th></th>\n",
       "      <th>Year</th>\n",
       "      <th>Country</th>\n",
       "      <th>Region</th>\n",
       "      <th>Happiness Rank</th>\n",
       "      <th>Happiness Score</th>\n",
       "      <th>Economy (GDP per Capita)</th>\n",
       "      <th>Family</th>\n",
       "      <th>Health (Life Expectancy)</th>\n",
       "      <th>Freedom</th>\n",
       "      <th>Trust (Government Corruption)</th>\n",
       "      <th>Generosity</th>\n",
       "      <th>Dystopia Residual</th>\n",
       "      <th>Avg Happiness Rank</th>\n",
       "    </tr>\n",
       "  </thead>\n",
       "  <tbody>\n",
       "    <tr>\n",
       "      <th>0</th>\n",
       "      <td>2015</td>\n",
       "      <td>Switzerland</td>\n",
       "      <td>Western Europe</td>\n",
       "      <td>1</td>\n",
       "      <td>7.587</td>\n",
       "      <td>1.39651</td>\n",
       "      <td>1.34951</td>\n",
       "      <td>0.94143</td>\n",
       "      <td>0.66557</td>\n",
       "      <td>0.41978</td>\n",
       "      <td>0.29678</td>\n",
       "      <td>2.51738</td>\n",
       "      <td>1.0</td>\n",
       "    </tr>\n",
       "    <tr>\n",
       "      <th>1</th>\n",
       "      <td>2016</td>\n",
       "      <td>Switzerland</td>\n",
       "      <td>Western Europe</td>\n",
       "      <td>1</td>\n",
       "      <td>7.587</td>\n",
       "      <td>1.39651</td>\n",
       "      <td>1.34951</td>\n",
       "      <td>0.94143</td>\n",
       "      <td>0.66557</td>\n",
       "      <td>0.41978</td>\n",
       "      <td>0.29678</td>\n",
       "      <td>2.51738</td>\n",
       "      <td>1.0</td>\n",
       "    </tr>\n",
       "    <tr>\n",
       "      <th>2</th>\n",
       "      <td>2017</td>\n",
       "      <td>Switzerland</td>\n",
       "      <td>Western Europe</td>\n",
       "      <td>1</td>\n",
       "      <td>7.587</td>\n",
       "      <td>1.39651</td>\n",
       "      <td>1.34951</td>\n",
       "      <td>0.94143</td>\n",
       "      <td>0.66557</td>\n",
       "      <td>0.41978</td>\n",
       "      <td>0.29678</td>\n",
       "      <td>2.51738</td>\n",
       "      <td>1.0</td>\n",
       "    </tr>\n",
       "    <tr>\n",
       "      <th>3</th>\n",
       "      <td>2018</td>\n",
       "      <td>Switzerland</td>\n",
       "      <td>Western Europe</td>\n",
       "      <td>1</td>\n",
       "      <td>7.587</td>\n",
       "      <td>1.39651</td>\n",
       "      <td>1.34951</td>\n",
       "      <td>0.94143</td>\n",
       "      <td>0.66557</td>\n",
       "      <td>0.41978</td>\n",
       "      <td>0.29678</td>\n",
       "      <td>2.51738</td>\n",
       "      <td>1.0</td>\n",
       "    </tr>\n",
       "    <tr>\n",
       "      <th>4</th>\n",
       "      <td>2019</td>\n",
       "      <td>Switzerland</td>\n",
       "      <td>Western Europe</td>\n",
       "      <td>1</td>\n",
       "      <td>7.587</td>\n",
       "      <td>1.39651</td>\n",
       "      <td>1.34951</td>\n",
       "      <td>0.94143</td>\n",
       "      <td>0.66557</td>\n",
       "      <td>0.41978</td>\n",
       "      <td>0.29678</td>\n",
       "      <td>2.51738</td>\n",
       "      <td>1.0</td>\n",
       "    </tr>\n",
       "    <tr>\n",
       "      <th>...</th>\n",
       "      <td>...</td>\n",
       "      <td>...</td>\n",
       "      <td>...</td>\n",
       "      <td>...</td>\n",
       "      <td>...</td>\n",
       "      <td>...</td>\n",
       "      <td>...</td>\n",
       "      <td>...</td>\n",
       "      <td>...</td>\n",
       "      <td>...</td>\n",
       "      <td>...</td>\n",
       "      <td>...</td>\n",
       "      <td>...</td>\n",
       "    </tr>\n",
       "    <tr>\n",
       "      <th>95</th>\n",
       "      <td>2019</td>\n",
       "      <td>United Arab Emirates</td>\n",
       "      <td>Middle East and Northern Africa</td>\n",
       "      <td>20</td>\n",
       "      <td>6.901</td>\n",
       "      <td>1.42727</td>\n",
       "      <td>1.12575</td>\n",
       "      <td>0.80925</td>\n",
       "      <td>0.64157</td>\n",
       "      <td>0.38583</td>\n",
       "      <td>0.26428</td>\n",
       "      <td>2.24743</td>\n",
       "      <td>20.0</td>\n",
       "    </tr>\n",
       "    <tr>\n",
       "      <th>96</th>\n",
       "      <td>2017</td>\n",
       "      <td>United Arab Emirates</td>\n",
       "      <td>Middle East and Northern Africa</td>\n",
       "      <td>20</td>\n",
       "      <td>6.901</td>\n",
       "      <td>1.42727</td>\n",
       "      <td>1.12575</td>\n",
       "      <td>0.80925</td>\n",
       "      <td>0.64157</td>\n",
       "      <td>0.38583</td>\n",
       "      <td>0.26428</td>\n",
       "      <td>2.24743</td>\n",
       "      <td>20.0</td>\n",
       "    </tr>\n",
       "    <tr>\n",
       "      <th>97</th>\n",
       "      <td>2018</td>\n",
       "      <td>United Arab Emirates</td>\n",
       "      <td>Middle East and Northern Africa</td>\n",
       "      <td>20</td>\n",
       "      <td>6.901</td>\n",
       "      <td>1.42727</td>\n",
       "      <td>1.12575</td>\n",
       "      <td>0.80925</td>\n",
       "      <td>0.64157</td>\n",
       "      <td>0.38583</td>\n",
       "      <td>0.26428</td>\n",
       "      <td>2.24743</td>\n",
       "      <td>20.0</td>\n",
       "    </tr>\n",
       "    <tr>\n",
       "      <th>98</th>\n",
       "      <td>2016</td>\n",
       "      <td>United Arab Emirates</td>\n",
       "      <td>Middle East and Northern Africa</td>\n",
       "      <td>20</td>\n",
       "      <td>6.901</td>\n",
       "      <td>1.42727</td>\n",
       "      <td>1.12575</td>\n",
       "      <td>0.80925</td>\n",
       "      <td>0.64157</td>\n",
       "      <td>0.38583</td>\n",
       "      <td>0.26428</td>\n",
       "      <td>2.24743</td>\n",
       "      <td>20.0</td>\n",
       "    </tr>\n",
       "    <tr>\n",
       "      <th>99</th>\n",
       "      <td>2015</td>\n",
       "      <td>United Arab Emirates</td>\n",
       "      <td>Middle East and Northern Africa</td>\n",
       "      <td>20</td>\n",
       "      <td>6.901</td>\n",
       "      <td>1.42727</td>\n",
       "      <td>1.12575</td>\n",
       "      <td>0.80925</td>\n",
       "      <td>0.64157</td>\n",
       "      <td>0.38583</td>\n",
       "      <td>0.26428</td>\n",
       "      <td>2.24743</td>\n",
       "      <td>20.0</td>\n",
       "    </tr>\n",
       "  </tbody>\n",
       "</table>\n",
       "<p>100 rows × 13 columns</p>\n",
       "</div>"
      ],
      "text/plain": [
       "    Year               Country                           Region  \\\n",
       "0   2015           Switzerland                   Western Europe   \n",
       "1   2016           Switzerland                   Western Europe   \n",
       "2   2017           Switzerland                   Western Europe   \n",
       "3   2018           Switzerland                   Western Europe   \n",
       "4   2019           Switzerland                   Western Europe   \n",
       "..   ...                   ...                              ...   \n",
       "95  2019  United Arab Emirates  Middle East and Northern Africa   \n",
       "96  2017  United Arab Emirates  Middle East and Northern Africa   \n",
       "97  2018  United Arab Emirates  Middle East and Northern Africa   \n",
       "98  2016  United Arab Emirates  Middle East and Northern Africa   \n",
       "99  2015  United Arab Emirates  Middle East and Northern Africa   \n",
       "\n",
       "    Happiness Rank  Happiness Score  Economy (GDP per Capita)   Family  \\\n",
       "0                1            7.587                   1.39651  1.34951   \n",
       "1                1            7.587                   1.39651  1.34951   \n",
       "2                1            7.587                   1.39651  1.34951   \n",
       "3                1            7.587                   1.39651  1.34951   \n",
       "4                1            7.587                   1.39651  1.34951   \n",
       "..             ...              ...                       ...      ...   \n",
       "95              20            6.901                   1.42727  1.12575   \n",
       "96              20            6.901                   1.42727  1.12575   \n",
       "97              20            6.901                   1.42727  1.12575   \n",
       "98              20            6.901                   1.42727  1.12575   \n",
       "99              20            6.901                   1.42727  1.12575   \n",
       "\n",
       "    Health (Life Expectancy)  Freedom  Trust (Government Corruption)  \\\n",
       "0                    0.94143  0.66557                        0.41978   \n",
       "1                    0.94143  0.66557                        0.41978   \n",
       "2                    0.94143  0.66557                        0.41978   \n",
       "3                    0.94143  0.66557                        0.41978   \n",
       "4                    0.94143  0.66557                        0.41978   \n",
       "..                       ...      ...                            ...   \n",
       "95                   0.80925  0.64157                        0.38583   \n",
       "96                   0.80925  0.64157                        0.38583   \n",
       "97                   0.80925  0.64157                        0.38583   \n",
       "98                   0.80925  0.64157                        0.38583   \n",
       "99                   0.80925  0.64157                        0.38583   \n",
       "\n",
       "    Generosity  Dystopia Residual  Avg Happiness Rank  \n",
       "0      0.29678            2.51738                 1.0  \n",
       "1      0.29678            2.51738                 1.0  \n",
       "2      0.29678            2.51738                 1.0  \n",
       "3      0.29678            2.51738                 1.0  \n",
       "4      0.29678            2.51738                 1.0  \n",
       "..         ...                ...                 ...  \n",
       "95     0.26428            2.24743                20.0  \n",
       "96     0.26428            2.24743                20.0  \n",
       "97     0.26428            2.24743                20.0  \n",
       "98     0.26428            2.24743                20.0  \n",
       "99     0.26428            2.24743                20.0  \n",
       "\n",
       "[100 rows x 13 columns]"
      ]
     },
     "execution_count": 3,
     "metadata": {},
     "output_type": "execute_result"
    }
   ],
   "source": [
    "# Import our data into pandas from CSV\n",
    "happy_reports = \"happines\"\n",
    "happy_reports_df = pd.read_csv(happy_reports)\n",
    "\n",
    "happy_reports_df"
   ]
  },
  {
   "cell_type": "code",
   "execution_count": 4,
   "id": "177f2159",
   "metadata": {},
   "outputs": [
    {
     "data": {
      "text/plain": [
       "Region\n",
       "Australia and New Zealand          7.285000\n",
       "Latin America and Caribbean        7.132000\n",
       "Middle East and Northern Africa    7.089500\n",
       "North America                      7.273000\n",
       "Western Europe                     7.306182\n",
       "Name: Happiness Score, dtype: float64"
      ]
     },
     "execution_count": 4,
     "metadata": {},
     "output_type": "execute_result"
    }
   ],
   "source": [
    "# Grouby and determine the mean for Region and Happiness Score\n",
    "region_happiness = happy_reports_df.groupby('Region')['Happiness Score'].mean()\n",
    "region_happiness"
   ]
  },
  {
   "cell_type": "code",
   "execution_count": 6,
   "id": "643236ed",
   "metadata": {},
   "outputs": [
    {
     "data": {
      "image/png": "[encoded data removed]",
      "text/plain": [
       "<Figure size 432x288 with 1 Axes>"
      ]
     },
     "metadata": {
      "needs_background": "light"
     },
     "output_type": "display_data"
    }
   ],
   "source": [
    "# Create a bar chart based off of the groupby above\n",
    "create_chart = region_happiness.plot(kind='bar')\n",
    "\n",
    "# Set the xlabel and ylabel using class methods\n",
    "\n",
    "create_chart.set_xlabel(\"Region\")\n",
    "create_chart.set_ylabel(\"Happiness Score\")\n",
    "\n",
    "plt.tight_layout()\n",
    "plt.show()"
   ]
  },
  {
   "cell_type": "code",
   "execution_count": 7,
   "id": "bfcc02be",
   "metadata": {},
   "outputs": [
    {
     "data": {
      "text/plain": [
       "Region\n",
       "Australia and New Zealand          1.291880\n",
       "Latin America and Caribbean        0.985853\n",
       "Middle East and Northern Africa    1.327920\n",
       "North America                      1.360400\n",
       "Western Europe                     1.361785\n",
       "Name: Economy (GDP per Capita), dtype: float64"
      ]
     },
     "execution_count": 7,
     "metadata": {},
     "output_type": "execute_result"
    }
   ],
   "source": [
    "# Grouby and determine the mean for Region and Economy\n",
    "region_happiness_GDP = happy_reports_df.groupby('Region')['Economy (GDP per Capita)'].mean()\n",
    "region_happiness_GDP"
   ]
  },
  {
   "cell_type": "code",
   "execution_count": 8,
   "id": "bad682dd",
   "metadata": {},
   "outputs": [
    {
     "data": {
      "image/png": "[encoded data removed]",
      "text/plain": [
       "<Figure size 432x288 with 1 Axes>"
      ]
     },
     "metadata": {
      "needs_background": "light"
     },
     "output_type": "display_data"
    }
   ],
   "source": [
    "# Create a bar chart based off of the region and economy groupby\n",
    "create_chart_GDP = region_happiness_GDP.plot(kind='bar')\n",
    "\n",
    "# Set the xlabel and ylabel using class methods\n",
    "create_chart_GDP.set_xlabel(\"Region\")\n",
    "create_chart_GDP.set_ylabel(\"Economy (GDP per Capita)\")\n",
    "\n",
    "plt.tight_layout()\n",
    "plt.show()"
   ]
  },
  {
   "cell_type": "code",
   "execution_count": 9,
   "id": "f6533445",
   "metadata": {},
   "outputs": [],
   "source": [
    "# Ignore this cell, scatter plot displays incorrectly\n",
    "# plt.scatter(\n",
    "#     x=happy_reports_df.loc[:,\"Region\"],\n",
    "#     y=happy_reports_df.loc[:,\"Economy (GDP per Capita)\"]\n",
    "# )\n",
    "# plt.xlabel('Region')\n",
    "# plt.ylabel('Economy (GDP per Capita)')\n",
    "# plt.show()"
   ]
  },
  {
   "cell_type": "code",
   "execution_count": 10,
   "id": "479d7590",
   "metadata": {},
   "outputs": [
    {
     "data": {
      "text/plain": [
       "Region\n",
       "Australia and New Zealand          1.314450\n",
       "Latin America and Caribbean        1.128420\n",
       "Middle East and Northern Africa    1.174840\n",
       "North America                      1.284860\n",
       "Western Europe                     1.318416\n",
       "Name: Family, dtype: float64"
      ]
     },
     "execution_count": 10,
     "metadata": {},
     "output_type": "execute_result"
    }
   ],
   "source": [
    "# Grouby and determine the mean for Region and Family\n",
    "region_happiness_Fam = happy_reports_df.groupby('Region')['Family'].mean()\n",
    "region_happiness_Fam"
   ]
  },
  {
   "cell_type": "code",
   "execution_count": 11,
   "id": "94df76f1",
   "metadata": {},
   "outputs": [
    {
     "data": {
      "image/png": "[encoded data removed]",
      "text/plain": [
       "<Figure size 432x288 with 1 Axes>"
      ]
     },
     "metadata": {
      "needs_background": "light"
     },
     "output_type": "display_data"
    }
   ],
   "source": [
    "# Create a bar chart based off of the region and family groupby \n",
    "create_chart_Fam = region_happiness_Fam.plot(kind='bar')\n",
    "\n",
    "# Set the xlabel and ylabel using class methods\n",
    "create_chart_Fam.set_xlabel(\"Region\")\n",
    "create_chart_Fam.set_ylabel(\"Family\")\n",
    "\n",
    "plt.tight_layout()\n",
    "plt.show()\n"
   ]
  },
  {
   "cell_type": "code",
   "execution_count": 12,
   "id": "683ecf33",
   "metadata": {},
   "outputs": [
    {
     "data": {
      "text/plain": [
       "Region\n",
       "Australia and New Zealand          0.919965\n",
       "Latin America and Caribbean        0.790577\n",
       "Middle East and Northern Africa    0.861560\n",
       "North America                      0.883710\n",
       "Western Europe                     0.903936\n",
       "Name: Health (Life Expectancy), dtype: float64"
      ]
     },
     "execution_count": 12,
     "metadata": {},
     "output_type": "execute_result"
    }
   ],
   "source": [
    "# Grouby and determine the mean for Region and Health\n",
    "region_happiness_health = happy_reports_df.groupby('Region')['Health (Life Expectancy)'].mean()\n",
    "region_happiness_health"
   ]
  },
  {
   "cell_type": "code",
   "execution_count": 13,
   "id": "09fc2300",
   "metadata": {},
   "outputs": [
    {
     "data": {
      "image/png": "[encoded data removed]",
      "text/plain": [
       "<Figure size 432x288 with 1 Axes>"
      ]
     },
     "metadata": {
      "needs_background": "light"
     },
     "output_type": "display_data"
    }
   ],
   "source": [
    "# Create a bar chart based off of the region and health groupby \n",
    "create_chart_health = region_happiness_health.plot(kind='bar')\n",
    "\n",
    "# Set the xlabel and ylabel using class methods\n",
    "create_chart_health.set_xlabel(\"Region\")\n",
    "create_chart_health.set_ylabel(\"Health (Life Expectancy)\")\n",
    "\n",
    "plt.tight_layout()\n",
    "plt.show()"
   ]
  },
  {
   "cell_type": "code",
   "execution_count": 14,
   "id": "0eb3255b",
   "metadata": {},
   "outputs": [
    {
     "data": {
      "text/plain": [
       "Region\n",
       "Australia and New Zealand          0.645310\n",
       "Latin America and Caribbean        0.535353\n",
       "Middle East and Northern Africa    0.527380\n",
       "North America                      0.589505\n",
       "Western Europe                     0.633921\n",
       "Name: Freedom, dtype: float64"
      ]
     },
     "execution_count": 14,
     "metadata": {},
     "output_type": "execute_result"
    }
   ],
   "source": [
    "# Grouby and determine the mean for Region and Freedom\n",
    "region_happiness_freedom = happy_reports_df.groupby('Region')['Freedom'].mean()\n",
    "region_happiness_freedom"
   ]
  },
  {
   "cell_type": "code",
   "execution_count": 15,
   "id": "d20f025c",
   "metadata": {},
   "outputs": [
    {
     "data": {
      "image/png": "[encoded data removed]",
      "text/plain": [
       "<Figure size 432x288 with 1 Axes>"
      ]
     },
     "metadata": {
      "needs_background": "light"
     },
     "output_type": "display_data"
    }
   ],
   "source": [
    "# Create a bar chart based off of the region and freedom groupby \n",
    "create_chart_freedom = region_happiness_freedom.plot(kind='bar')\n",
    "\n",
    "# Set the xlabel and ylabel using class methods\n",
    "create_chart_freedom.set_xlabel(\"Region\")\n",
    "create_chart_freedom.set_ylabel(\"Freedom\")\n",
    "\n",
    "plt.tight_layout()\n",
    "plt.show()"
   ]
  },
  {
   "cell_type": "code",
   "execution_count": 16,
   "id": "e97234ce",
   "metadata": {},
   "outputs": [
    {
     "data": {
      "text/plain": [
       "Region\n",
       "Australia and New Zealand          0.392795\n",
       "Latin America and Caribbean        0.164720\n",
       "Middle East and Northern Africa    0.231840\n",
       "North America                      0.244235\n",
       "Western Europe                     0.332482\n",
       "Name: Trust (Government Corruption), dtype: float64"
      ]
     },
     "execution_count": 16,
     "metadata": {},
     "output_type": "execute_result"
    }
   ],
   "source": [
    "# Grouby and determine the mean for Region and Trust\n",
    "region_happiness_trust = happy_reports_df.groupby('Region')['Trust (Government Corruption)'].mean()\n",
    "region_happiness_trust"
   ]
  },
  {
   "cell_type": "code",
   "execution_count": 17,
   "id": "1f3c061d",
   "metadata": {},
   "outputs": [
    {
     "data": {
      "image/png": "[encoded data removed]",
      "text/plain": [
       "<Figure size 432x288 with 1 Axes>"
      ]
     },
     "metadata": {
      "needs_background": "light"
     },
     "output_type": "display_data"
    }
   ],
   "source": [
    "# Create a bar chart based off of the region and trust groupby \n",
    "create_chart_trust = region_happiness_trust.plot(kind='bar')\n",
    "\n",
    "# Set the xlabel and ylabel using class methods\n",
    "create_chart_trust.set_xlabel(\"Region\")\n",
    "create_chart_trust.set_ylabel(\"Trust (Government Corruption)\")\n",
    "\n",
    "plt.tight_layout()\n",
    "plt.show()"
   ]
  },
  {
   "cell_type": "code",
   "execution_count": 18,
   "id": "b1a51b59",
   "metadata": {},
   "outputs": [
    {
     "data": {
      "text/plain": [
       "Region\n",
       "Australia and New Zealand          0.455315\n",
       "Latin America and Caribbean        0.180483\n",
       "Middle East and Northern Africa    0.298000\n",
       "North America                      0.429580\n",
       "Western Europe                     0.344220\n",
       "Name: Generosity, dtype: float64"
      ]
     },
     "execution_count": 18,
     "metadata": {},
     "output_type": "execute_result"
    }
   ],
   "source": [
    "# Grouby and determine the mean for Region and Generosity\n",
    "region_happiness_generosity = happy_reports_df.groupby('Region')['Generosity'].mean()\n",
    "region_happiness_generosity"
   ]
  },
  {
   "cell_type": "code",
   "execution_count": 19,
   "id": "199f51c0",
   "metadata": {},
   "outputs": [
    {
     "data": {
      "image/png": "[encoded data removed]",
      "text/plain": [
       "<Figure size 432x288 with 1 Axes>"
      ]
     },
     "metadata": {
      "needs_background": "light"
     },
     "output_type": "display_data"
    }
   ],
   "source": [
    "# Create a bar chart based off of the region and generosity groupby \n",
    "create_chart_generosity = region_happiness_generosity.plot(kind='bar')\n",
    "\n",
    "# Set the xlabel and ylabel using class methods\n",
    "create_chart_health.set_xlabel(\"Region\")\n",
    "create_chart_health.set_ylabel(\"Generosity\")\n",
    "\n",
    "plt.tight_layout()\n",
    "plt.show()"
   ]
  },
  {
   "cell_type": "code",
   "execution_count": 20,
   "id": "1699f34c",
   "metadata": {},
   "outputs": [
    {
     "data": {
      "text/html": [
       "<div>\n",
       "<style scoped>\n",
       "    .dataframe tbody tr th:only-of-type {\n",
       "        vertical-align: middle;\n",
       "    }\n",
       "\n",
       "    .dataframe tbody tr th {\n",
       "        vertical-align: top;\n",
       "    }\n",
       "\n",
       "    .dataframe thead th {\n",
       "        text-align: right;\n",
       "    }\n",
       "</style>\n",
       "<table border=\"1\" class=\"dataframe\">\n",
       "  <thead>\n",
       "    <tr style=\"text-align: right;\">\n",
       "      <th></th>\n",
       "      <th>Economy (GDP per Capita)</th>\n",
       "      <th>Family</th>\n",
       "      <th>Health (Life Expectancy)</th>\n",
       "      <th>Freedom</th>\n",
       "      <th>Trust (Government Corruption)</th>\n",
       "      <th>Generosity</th>\n",
       "    </tr>\n",
       "    <tr>\n",
       "      <th>Region</th>\n",
       "      <th></th>\n",
       "      <th></th>\n",
       "      <th></th>\n",
       "      <th></th>\n",
       "      <th></th>\n",
       "      <th></th>\n",
       "    </tr>\n",
       "  </thead>\n",
       "  <tbody>\n",
       "    <tr>\n",
       "      <th>Australia and New Zealand</th>\n",
       "      <td>1.291880</td>\n",
       "      <td>1.314450</td>\n",
       "      <td>0.919965</td>\n",
       "      <td>0.645310</td>\n",
       "      <td>0.392795</td>\n",
       "      <td>0.455315</td>\n",
       "    </tr>\n",
       "    <tr>\n",
       "      <th>Latin America and Caribbean</th>\n",
       "      <td>0.985853</td>\n",
       "      <td>1.128420</td>\n",
       "      <td>0.790577</td>\n",
       "      <td>0.535353</td>\n",
       "      <td>0.164720</td>\n",
       "      <td>0.180483</td>\n",
       "    </tr>\n",
       "    <tr>\n",
       "      <th>Middle East and Northern Africa</th>\n",
       "      <td>1.327920</td>\n",
       "      <td>1.174840</td>\n",
       "      <td>0.861560</td>\n",
       "      <td>0.527380</td>\n",
       "      <td>0.231840</td>\n",
       "      <td>0.298000</td>\n",
       "    </tr>\n",
       "    <tr>\n",
       "      <th>North America</th>\n",
       "      <td>1.360400</td>\n",
       "      <td>1.284860</td>\n",
       "      <td>0.883710</td>\n",
       "      <td>0.589505</td>\n",
       "      <td>0.244235</td>\n",
       "      <td>0.429580</td>\n",
       "    </tr>\n",
       "    <tr>\n",
       "      <th>Western Europe</th>\n",
       "      <td>1.361785</td>\n",
       "      <td>1.318416</td>\n",
       "      <td>0.903936</td>\n",
       "      <td>0.633921</td>\n",
       "      <td>0.332482</td>\n",
       "      <td>0.344220</td>\n",
       "    </tr>\n",
       "  </tbody>\n",
       "</table>\n",
       "</div>"
      ],
      "text/plain": [
       "                                 Economy (GDP per Capita)    Family  \\\n",
       "Region                                                                \n",
       "Australia and New Zealand                        1.291880  1.314450   \n",
       "Latin America and Caribbean                      0.985853  1.128420   \n",
       "Middle East and Northern Africa                  1.327920  1.174840   \n",
       "North America                                    1.360400  1.284860   \n",
       "Western Europe                                   1.361785  1.318416   \n",
       "\n",
       "                                 Health (Life Expectancy)   Freedom  \\\n",
       "Region                                                                \n",
       "Australia and New Zealand                        0.919965  0.645310   \n",
       "Latin America and Caribbean                      0.790577  0.535353   \n",
       "Middle East and Northern Africa                  0.861560  0.527380   \n",
       "North America                                    0.883710  0.589505   \n",
       "Western Europe                                   0.903936  0.633921   \n",
       "\n",
       "                                 Trust (Government Corruption)  Generosity  \n",
       "Region                                                                      \n",
       "Australia and New Zealand                             0.392795    0.455315  \n",
       "Latin America and Caribbean                           0.164720    0.180483  \n",
       "Middle East and Northern Africa                       0.231840    0.298000  \n",
       "North America                                         0.244235    0.429580  \n",
       "Western Europe                                        0.332482    0.344220  "
      ]
     },
     "execution_count": 20,
     "metadata": {},
     "output_type": "execute_result"
    }
   ],
   "source": [
    "# Determine the mean for the happiness factors\n",
    "factors = ['Economy (GDP per Capita)', 'Family', 'Health (Life Expectancy)', 'Freedom', 'Trust (Government Corruption)', 'Generosity']\n",
    "factors_mean = happy_reports_df.groupby('Region')[factors].mean()\n",
    "factors_mean"
   ]
  },
  {
   "cell_type": "code",
   "execution_count": null,
   "id": "48b500cb",
   "metadata": {},
   "outputs": [],
   "source": []
  }
 ],
 "metadata": {
  "kernelspec": {
   "display_name": "Python 3 (ipykernel)",
   "language": "python",
   "name": "python3"
  },
  "language_info": {
   "codemirror_mode": {
    "name": "ipython",
    "version": 3
   },
   "file_extension": ".py",
   "mimetype": "text/x-python",
   "name": "python",
   "nbconvert_exporter": "python",
   "pygments_lexer": "ipython3",
   "version": "3.9.7"
  }
 },
 "nbformat": 4,
 "nbformat_minor": 5
}
